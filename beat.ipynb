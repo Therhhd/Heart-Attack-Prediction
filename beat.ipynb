{
 "cells": [
  {
   "cell_type": "code",
   "execution_count": null,
   "id": "63a1d210-b7ee-4ab8-95f5-720b6266beb4",
   "metadata": {},
   "outputs": [],
   "source": [
    "'''\n",
    "    This file contains the definition of the class 'Beat', each object of which is\n",
    "    associated with a single beat and contains the data and annotations associated\n",
    "    with said beat.\n",
    "    \n",
    "    \n",
    "'''"
   ]
  },
  {
   "cell_type": "code",
   "execution_count": null,
   "id": "40609a13-fdfe-41e1-a682-ccbb8034c05d",
   "metadata": {},
   "outputs": [],
   "source": [
    "import matplotlib.pyplot as plt\n",
    "import numpy as np"
   ]
  },
  {
   "cell_type": "code",
   "execution_count": null,
   "id": "aa8b9369-45d0-4203-a304-0a330bd60f35",
   "metadata": {},
   "outputs": [],
   "source": [
    "class Beat(object):"
   ]
  },
  {
   "cell_type": "code",
   "execution_count": null,
   "id": "75dbb105-363a-4b71-8792-0c2818c95aae",
   "metadata": {},
   "outputs": [],
   "source": [
    " def __init__(self, timeStamps, ecgReadings, typeOfBeat, auxillary):\n",
    "        '''\n",
    "            Creates an object of class [Beat]\n",
    "            \n",
    "        '''\n",
    "        \n",
    "        # Fields containing information about the actual ECG data associated with the\n",
    "        # beat (i.e. the data).\n",
    "        self.timeStamps = timeStamps\n",
    "        self.ecgReadings = ecgReadings\n",
    "        \n",
    "        # Fields containing information about the annotations associated with the beat.\n",
    "        self.typeOfBeat = str(typeOfBeat)\n",
    "        self.auxillary = str(auxillary)"
   ]
  },
  {
   "cell_type": "code",
   "execution_count": null,
   "id": "57b46964-0eb5-4480-ba7d-cd8a92645482",
   "metadata": {},
   "outputs": [],
   "source": [
    "  def getLastTimeStamp(self):\n",
    "        '''\n",
    "            Returns the time stamp of the last sample in this beat.\n",
    "        '''\n",
    "        \n",
    "        return self.timeStamps[len(self.timeStamps) - 1]"
   ]
  },
  {
   "cell_type": "code",
   "execution_count": null,
   "id": "9022f5bc-209d-43c2-b7db-d6c74ae739da",
   "metadata": {},
   "outputs": [],
   "source": [
    " def getFirstTimeStamp(self):\n",
    "        '''\n",
    "            Returns the time stamp of the first sample in this beat.\n",
    "        '''\n",
    "    \n",
    "        return self.timeStamps[0]"
   ]
  },
  {
   "cell_type": "code",
   "execution_count": null,
   "id": "3c20520e-13a2-4ad8-b49d-511f2a7bfdfd",
   "metadata": {},
   "outputs": [],
   "source": [
    " def getAux(self):\n",
    "        '''\n",
    "            Returns the auxillary field of this beat, i.e. the short string abbreviation for \n",
    "            the type of cardiac rhythm this beat is a part of.\n",
    "        '''"
   ]
  },
  {
   "cell_type": "code",
   "execution_count": null,
   "id": "4905df98-e752-41c1-959f-c08fe39c8dc0",
   "metadata": {},
   "outputs": [],
   "source": [
    "    return self.auxillary"
   ]
  },
  {
   "cell_type": "code",
   "execution_count": null,
   "id": "9aa09af5-191a-40a9-aec8-ddc8df098b56",
   "metadata": {},
   "outputs": [],
   "source": [
    "def getECGReadings(self):\n",
    "\t'''\n",
    "\t    Returns an array of the ecg readings.\n",
    "\t'''\n",
    "\treturn self.ecgReadings\n"
   ]
  },
  {
   "cell_type": "code",
   "execution_count": null,
   "id": "b1b0044d-b21c-4ef7-99a2-24ec492591d0",
   "metadata": {},
   "outputs": [],
   "source": [
    " def resample(self, proportion):\n",
    "\tself.ecgReadings = self.ecgReadings[::proportion]\n",
    "\tself.timeStamps = self.timeStamps[::proportion]\n"
   ]
  },
  {
   "cell_type": "code",
   "execution_count": null,
   "id": "10922593-8b02-4ba6-bc38-5683d016dda5",
   "metadata": {},
   "outputs": [],
   "source": [
    "def plotBeat(self, plotNameExtension):\n",
    "        '''\n",
    "            Saves a plot of this beat (i.e. a plot of the time stamps along the x-axis\n",
    "            and the ECG readings along the y-axis) as the file, 'plotOfBeat[plotNameExtension].png' in the directory\n",
    "            '../results'\n",
    "            \n",
    "        '''\n",
    "\tplt.figure()    \n",
    "        plt.plot(self.timeStamps, self.ecgReadings)\n",
    "        plt.savefig(\"../results/\" + str(plotNameExtension) + \"plotOfBeat.png\")\n",
    "    "
   ]
  },
  {
   "cell_type": "code",
   "execution_count": null,
   "id": "30040fc4-e2ee-47bd-b8be-b58989dd9f14",
   "metadata": {},
   "outputs": [],
   "source": [
    "def isPartOfAux(self, aux):\n",
    "        ''' \n",
    "            Returns true if and only if the current Beat object represents a beat that is \n",
    "            a part of the rhythm described by the string abbreviation [aux] (e.g. '(AB').\n",
    "            Note that the string [aux] must be a key in the dictionary [TYPES_OF_EVENTS_DICT] \n",
    "            defined in readData.py.\n",
    "            \n",
    "        '''\n",
    "    return self.auxillary == aux"
   ]
  },
  {
   "cell_type": "code",
   "execution_count": null,
   "id": "522f6016-7463-4ae0-af3d-26ae9fbd0729",
   "metadata": {},
   "outputs": [],
   "source": [
    "    def getNumpyArr(self):\n",
    "        '''\n",
    "            Returns a numpy array representation of the current Beat object.\n",
    "            The returned numpy array arr has 2 rows, the first row containing time stamps \n",
    "            and the second row containing ECG signal readings.  Note that arr[2, n] is the\n",
    "            ECG signal reading taken at time arr[1, n]. \n",
    "        '''\n",
    "\n",
    "        numOfRows = 2\n",
    "\tnumOfCols = len(self.timeStamps)\n",
    "        arr = np.ones((numOfRows, numOfCols))"
   ]
  },
  {
   "cell_type": "code",
   "execution_count": null,
   "id": "634c6700-1507-49af-9440-bb8bcdd43205",
   "metadata": {},
   "outputs": [],
   "source": [
    "for col in range(numOfCols):\n",
    "            arr[0, col] = self.timeStamps[col]\n",
    "            arr[1, col] = self.ecgReadings[col]\n",
    "\n",
    "\treturn arr\n",
    "            \t"
   ]
  },
  {
   "cell_type": "code",
   "execution_count": null,
   "id": "76f1de17-ae92-4540-b909-e8eb96da6490",
   "metadata": {},
   "outputs": [],
   "source": [
    "def __str__(self):\n",
    "        # Heading\n",
    "        str1 = ' ****** BEAT OBJECT ********* \\n \\n'\n",
    "        \n",
    "        # Annotations\n",
    "        str1 = str1 + 'Type of Beat: ' + self.typeOfBeat + '\\n'\n",
    "        str1 = str1 + 'Auxillary: ' + self.auxillary + '\\n \\n'\n",
    "        \n",
    "        # ECG Readings\n",
    "        str1 = str1 + 'ECG Readings: \\n\\n'"
   ]
  },
  {
   "cell_type": "code",
   "execution_count": null,
   "id": "1e5b9a92-fba3-40eb-86dc-49da320b2e6a",
   "metadata": {},
   "outputs": [],
   "source": [
    " for index in range(len(self.timeStamps)):\n",
    "            str1 = str1 + 'Time Stamp: ' + str(self.timeStamps[index]) + ' ECG Reading: ' + str(self.ecgReadings[index]) + '\\n\\n'\n",
    "        \n",
    "        # Temporarily testing the getLastTimeStamp and getFirstTimeStamp.\n",
    "        str1 = str1 + 'First Time Stamp: ' + str(self.getFirstTimeStamp()) + '\\n\\n'\n",
    "        str1 = str1 + 'Last Time Stamp: ' + str(self.getLastTimeStamp()) + '\\n\\n'\n",
    "\t \n",
    "        return str1"
   ]
  },
  {
   "cell_type": "code",
   "execution_count": null,
   "id": "4f56af72-dac9-45f6-8cca-4a525407ee14",
   "metadata": {},
   "outputs": [],
   "source": []
  },
  {
   "cell_type": "code",
   "execution_count": null,
   "id": "89a4526e-a555-441d-8cba-04aed183cb81",
   "metadata": {},
   "outputs": [],
   "source": []
  },
  {
   "cell_type": "code",
   "execution_count": null,
   "id": "8880b9a9-3dce-4e29-935a-e26c3ff69f50",
   "metadata": {},
   "outputs": [],
   "source": []
  },
  {
   "cell_type": "code",
   "execution_count": null,
   "id": "3b2fac04-9693-463b-8e61-c68021bf5f85",
   "metadata": {},
   "outputs": [],
   "source": []
  },
  {
   "cell_type": "code",
   "execution_count": null,
   "id": "d7250363-0e0e-42b1-b687-ffa3557e4a23",
   "metadata": {},
   "outputs": [],
   "source": []
  },
  {
   "cell_type": "code",
   "execution_count": null,
   "id": "9a4f5e25-f994-48c0-b6a1-2ef233e397c1",
   "metadata": {},
   "outputs": [],
   "source": []
  },
  {
   "cell_type": "code",
   "execution_count": null,
   "id": "eee620f8-3de8-43ee-b428-9c2eb25f1540",
   "metadata": {},
   "outputs": [],
   "source": []
  },
  {
   "cell_type": "code",
   "execution_count": null,
   "id": "122a9e8e-e575-46a3-acab-ee58f3790682",
   "metadata": {},
   "outputs": [],
   "source": []
  },
  {
   "cell_type": "code",
   "execution_count": null,
   "id": "0cf9f9c6-b73f-488f-ae60-a8792a7eeafd",
   "metadata": {},
   "outputs": [],
   "source": []
  },
  {
   "cell_type": "code",
   "execution_count": null,
   "id": "16cbf7ca-500f-4642-9b09-9f99d92b9885",
   "metadata": {},
   "outputs": [],
   "source": []
  },
  {
   "cell_type": "code",
   "execution_count": null,
   "id": "a2ccbe3f-9b2e-4ecf-b9bd-03033fa8af52",
   "metadata": {},
   "outputs": [],
   "source": []
  },
  {
   "cell_type": "code",
   "execution_count": null,
   "id": "62bd01d5-1794-4819-910d-d5c00b0b7631",
   "metadata": {},
   "outputs": [],
   "source": []
  },
  {
   "cell_type": "code",
   "execution_count": null,
   "id": "1487bd0b-a7bf-46a7-b1e4-e7488284b662",
   "metadata": {},
   "outputs": [],
   "source": []
  },
  {
   "cell_type": "code",
   "execution_count": null,
   "id": "1a53af4d-bd90-4d78-9f6f-2982c915ba10",
   "metadata": {},
   "outputs": [],
   "source": []
  },
  {
   "cell_type": "code",
   "execution_count": null,
   "id": "3cf02b02-1771-4d96-8c23-0b84daef02e1",
   "metadata": {},
   "outputs": [],
   "source": []
  },
  {
   "cell_type": "code",
   "execution_count": null,
   "id": "7670eab2-83c5-4213-b675-0a56cc631bad",
   "metadata": {},
   "outputs": [],
   "source": []
  },
  {
   "cell_type": "code",
   "execution_count": null,
   "id": "a94870ae-3325-4507-a9dd-d263d59273a2",
   "metadata": {},
   "outputs": [],
   "source": []
  },
  {
   "cell_type": "code",
   "execution_count": null,
   "id": "8ad88f64-3acd-41ce-8748-aadfb3d58ad6",
   "metadata": {},
   "outputs": [],
   "source": []
  },
  {
   "cell_type": "code",
   "execution_count": null,
   "id": "27f430e3-3db4-4a04-b9ba-f1e8ba9bcd92",
   "metadata": {},
   "outputs": [],
   "source": []
  },
  {
   "cell_type": "code",
   "execution_count": null,
   "id": "2d111392-f9d6-40d4-a82f-5f37cddefee4",
   "metadata": {},
   "outputs": [],
   "source": []
  },
  {
   "cell_type": "code",
   "execution_count": null,
   "id": "f65200e8-f343-4bc4-bc12-4921ec0eba4b",
   "metadata": {},
   "outputs": [],
   "source": []
  },
  {
   "cell_type": "code",
   "execution_count": null,
   "id": "5aa722f5-ec7d-4ae1-b53c-c8c278c82a5e",
   "metadata": {},
   "outputs": [],
   "source": []
  },
  {
   "cell_type": "code",
   "execution_count": null,
   "id": "2a23bd1f-6f3b-463a-abcf-9159858d1a1e",
   "metadata": {},
   "outputs": [],
   "source": []
  },
  {
   "cell_type": "code",
   "execution_count": null,
   "id": "e77664ba-a27a-49a0-aaf6-73b314c9ef9d",
   "metadata": {},
   "outputs": [],
   "source": []
  },
  {
   "cell_type": "code",
   "execution_count": null,
   "id": "568d08ef-98a8-4634-a81a-a78162b670a1",
   "metadata": {},
   "outputs": [],
   "source": []
  },
  {
   "cell_type": "code",
   "execution_count": null,
   "id": "7f5f41b8-02d2-482b-8571-5c81ce14c4d9",
   "metadata": {},
   "outputs": [],
   "source": []
  },
  {
   "cell_type": "code",
   "execution_count": null,
   "id": "7bfe9fff-b554-44b9-90e7-ab86d5f1df06",
   "metadata": {},
   "outputs": [],
   "source": []
  },
  {
   "cell_type": "code",
   "execution_count": null,
   "id": "f608fdb1-c142-422a-a979-44e9d5e4a804",
   "metadata": {},
   "outputs": [],
   "source": []
  },
  {
   "cell_type": "code",
   "execution_count": null,
   "id": "27a15d30-e939-4ce8-889d-27dedacd1091",
   "metadata": {},
   "outputs": [],
   "source": []
  },
  {
   "cell_type": "code",
   "execution_count": null,
   "id": "992a1cb6-1825-4bcc-9753-c7092cc2a0dc",
   "metadata": {},
   "outputs": [],
   "source": []
  },
  {
   "cell_type": "code",
   "execution_count": null,
   "id": "3b23ca8e-4653-4700-b1c4-8665df8f847c",
   "metadata": {},
   "outputs": [],
   "source": []
  },
  {
   "cell_type": "code",
   "execution_count": null,
   "id": "437a38f3-34f8-4759-aee9-3fc4dbf804f7",
   "metadata": {},
   "outputs": [],
   "source": []
  },
  {
   "cell_type": "code",
   "execution_count": null,
   "id": "afc3dac8-940d-4034-abc5-deb5b24976bc",
   "metadata": {},
   "outputs": [],
   "source": []
  }
 ],
 "metadata": {
  "kernelspec": {
   "display_name": "Python 3",
   "language": "python",
   "name": "python3"
  },
  "language_info": {
   "codemirror_mode": {
    "name": "ipython",
    "version": 3
   },
   "file_extension": ".py",
   "mimetype": "text/x-python",
   "name": "python",
   "nbconvert_exporter": "python",
   "pygments_lexer": "ipython3",
   "version": "3.8.8"
  }
 },
 "nbformat": 4,
 "nbformat_minor": 5
}
