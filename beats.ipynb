{
 "cells": [
  {
   "cell_type": "code",
   "execution_count": null,
   "id": "e655130f-eabb-4a04-9ad2-416c21734f57",
   "metadata": {},
   "outputs": [],
   "source": [
    "'''\n",
    "    This file contains the definition of the class 'Beats', each object of which is associated with \n",
    "    a list of objects of the class [Beat], which together spans a time period of at most [timeWindow] seconds.  \n",
    "    \n",
    "    Three important notes about this list of [Beat] objects:\n",
    "        (1) This list of [Beat] objects in an object on this class is in the order of their occurrence in the ECG\n",
    "            recording of patient [patientName] from lead [leadName] that is stored in the database [databaseName].\n",
    "        \n",
    "        (2) The first beat in this list is the first beat in the corresponding ECG reading that begins less than\n",
    "            ([timeBefore] + [timeWindow]) seconds before the beginning of the event [cardiacEvent] in the corresponding\n",
    "            ECG reading.\n",
    "    \n",
    "        (3) The last beat in this list is the last beat in the corresponding ECG reading that ends more than \n",
    "            ([timeBefore]) seconds before the beginnning of the event [cardiacEvent] in the correspodnign ECG reading.\n",
    "            \n",
    "    [cardiacEvent] is the string abbreviation of a cardiac event, e.g. '(AB').  Note that the string\n",
    "    [cardiacEvent] must be a key in the dictionary [TYPES_OF_EVENTS_DICT] defined in readData.py.\n",
    "    \n",
    "    [cardiacEvent] begins as soon as [cardiacEventBegTimeStamp] seconds have elapsed in the specified patient's ECG\n",
    "    reading.\n",
    "'''"
   ]
  },
  {
   "cell_type": "code",
   "execution_count": null,
   "id": "b778435b-9010-490d-bf60-ee4c61477ca9",
   "metadata": {},
   "outputs": [],
   "source": [
    "from beat import Beat\n",
    "import numpy as np"
   ]
  },
  {
   "cell_type": "code",
   "execution_count": null,
   "id": "d854e23b-025f-4d01-9c54-25f82964cb8f",
   "metadata": {},
   "outputs": [],
   "source": [
    "class Beats:\n",
    "\n",
    "    def __init__(self, databaseName, patientName, leadName, timeBefore, timeWindow, cardiacEvent, cardiacEventBegTimeStamp, beats):\n",
    "        \n",
    "        # Fields containing information about the patient and the source of this data.\n",
    "        self.databaseName = databaseName\n",
    "        self.patientName = patientName\n",
    "        self.leadName = leadName\n",
    "\n",
    "        # Fields containing information about the relation between the list of [Beat] objects associated with this object\n",
    "        # and the cardiac event in the corresponding ECG reading.\n",
    "        self.timeBefore = timeBefore\n",
    "        self.timeWindow = timeWindow\n",
    "        self.cardiacEvent = cardiacEvent\n",
    "\tself.cardiacEventBegTimeStamp = cardiacEventBegTimeStamp\n",
    "\n",
    "        # Fields containing the list of [Beat] objects.\n",
    "        self.beats = beats"
   ]
  },
  {
   "cell_type": "code",
   "execution_count": null,
   "id": "ea05c8db-fe56-4244-ac06-f864d33e7fb7",
   "metadata": {},
   "outputs": [],
   "source": [
    "def getCardiacEvent(self):\n",
    "        '''\n",
    "            Returns the string abbreviation of the cardiac event that this [Beats] object precedes.  Note that the\n",
    "            returned string must be a key in the dictionary [TYPES_OF_EVENTS_DICT] defined in readData.py.\n",
    "        '''\n",
    "         return self.cardiacEvent"
   ]
  },
  {
   "cell_type": "code",
   "execution_count": null,
   "id": "d4575eea-3d48-4fd2-a4dd-740c7b4bd646",
   "metadata": {},
   "outputs": [],
   "source": [
    "ef getNumOfBeats(self):\n",
    "\t'''\n",
    "\t    Returns the number of [Beat] objects associated with the current [Beats] object.\n",
    "\t'''\n",
    "\treturn len(self.beats) \n"
   ]
  },
  {
   "cell_type": "code",
   "execution_count": null,
   "id": "88c602be-1154-450a-9746-adca5945d59e",
   "metadata": {},
   "outputs": [],
   "source": [
    "def getMaxLengthOfBeat(self):\n",
    "\t'''\n",
    "\t    Returns the maximum number of ECG readings associated with any single [Beat] object\n",
    "\t    in the current [Beats] object.\n",
    "\t'''\n",
    "\tmaxLengthOfBeat = 0\n",
    "\tfor beat in self.beats:\n",
    "\t\tlengthOfBeat = len(beat.getECGReadings())\n",
    "\t\tmaxLengthOfBeat = max(maxLengthOfBeat, lengthOfBeat)\n",
    "\n",
    "\treturn maxLengthOfBeat"
   ]
  },
  {
   "cell_type": "code",
   "execution_count": null,
   "id": "558a22ea-dcc4-4bac-91a6-9a0cd66c9465",
   "metadata": {},
   "outputs": [],
   "source": [
    "\n",
    "    def getBeats(self):\n",
    "\t'''\n",
    "            Returns the list of [Beat] objects associated with the current [Beats] object.\n",
    "\t'''\n",
    "\treturn self.beats\n",
    "\t"
   ]
  },
  {
   "cell_type": "code",
   "execution_count": null,
   "id": "aabd52bb-4381-4325-bc62-9c71bab92a7b",
   "metadata": {},
   "outputs": [],
   "source": [
    "def getNumpyArr(self):\n",
    "        '''\n",
    "             Returns the numpy array representation of the current [Beats] object.\n",
    "   \n",
    "             The returned numpy array has 1 row and this row contains the numpy array \n",
    "             representations of each of the [Beat] objects contained in the current [Beats]\n",
    "             object in the order in which the [Beat] objects occurred.\n",
    "\t     DOES NOT WORK SINCE NUMPY CANNOT BE RAGGED\n",
    "        '''\n",
    "       \n",
    "        numOfRows = 1\n",
    "        numOfCols = len(self.beats)\n",
    "        arr = np.ones((numOfRows, numOfCols))\n",
    "\n",
    "        for col in range(numOfCols):\n",
    "            arr[0, col] = self.beats[col].getNumpyArr()\n",
    "\n",
    "\treturn arr"
   ]
  },
  {
   "cell_type": "code",
   "execution_count": null,
   "id": "ba113e1b-330f-4748-ad6a-5553ebe4d8bd",
   "metadata": {},
   "outputs": [],
   "source": [
    "def getArr(self):\n",
    "        '''\n",
    "             Returns the array representation of the current [Beats] object.\n",
    "   \n",
    "             The returned array has 1 row and this row contains all of the ecg readings.\n",
    "\t     DOES NOT WORK SINCE ARR CANNOT BE RAGGED\n",
    "        '''\n",
    "\n",
    "\tarr = []\n",
    "        for beat in self.beats:\n",
    "            arr.extend(beat.getECGReadings())\n",
    "\t\n",
    "\treturn arr\n"
   ]
  },
  {
   "cell_type": "code",
   "execution_count": null,
   "id": "14b92db3-a68e-4060-a797-ab388a7aa1af",
   "metadata": {},
   "outputs": [],
   "source": [
    "ef __str__(self):\n",
    "\n",
    "        # Heading\n",
    "        str1 = ' ****** BEATS OBJECT ********* \\n \\n'\n",
    "        \n",
    "        # Information about means of collection\n",
    "        str1 = str1 + 'Database Name: ' + self.databaseName + '\\n'\n",
    "        str1 = str1 + 'Patient Name: ' + self.patientName + '\\n'\n",
    "        str1 = str1 + 'Lead Name: ' + self.leadName + '\\n \\n'\n",
    "        \n",
    "        # Information about the relation between the list of [Beat] objects associated with this object\n",
    "        # and the cardiac event in the corresponding ECG reading.\n",
    "        str1 = str1 + 'Time Before Cardiac Event: ' + str(self.timeBefore) + ' seconds \\n'\n",
    "        str1 = str1 + 'Length of Window of Time: ' + str(self.timeWindow) + ' seconds \\n'\n",
    "        str1 = str1 + 'Cardiac Event: ' + str(self.cardiacEvent) + '\\n'\n",
    "\tstr1 = str1 + 'Cardiac Event Beginning Time Stamp: ' + str(self.cardiacEventBegTimeStamp) + ' seconds \\n\\n'\n",
    "\n",
    "\tprint str1\n",
    "\tprint 'The length of the beats: ' + str(len(self.beats)) + '\\n\\n'\n",
    "\n",
    "\t# Information about the beginning and end of the list of [Beat] objects associated with this object.\n",
    "\tbegTimeStamp = self.beats[0].getFirstTimeStamp()\n",
    "\tendTimeStamp = self.beats[len(self.beats) - 1].getLastTimeStamp()\n",
    "\tstr1 = str1 + 'Beginning Time Stamp: ' + str(begTimeStamp) + ' seconds \\n'\n",
    "\tstr1 = str1 + 'Ending Time Stamp: ' + str(endTimeStamp) + ' seconds \\n\\n'\n",
    "\t        \n",
    "        # Information about the beats themselves\n",
    "\t'''\n",
    "        for beat in self.beats:\n",
    "            str1 = str1 + str(beat)\n",
    "        \n",
    "        str1 = str1 + '\\n\\n'\n",
    "        '''\n",
    "        return str1"
   ]
  },
  {
   "cell_type": "code",
   "execution_count": null,
   "id": "61ccca3b-d47b-46b1-9874-b9922cca099a",
   "metadata": {},
   "outputs": [],
   "source": []
  },
  {
   "cell_type": "code",
   "execution_count": null,
   "id": "3af88198-ee5e-468f-92d1-5ee8e3dc9d76",
   "metadata": {},
   "outputs": [],
   "source": []
  },
  {
   "cell_type": "code",
   "execution_count": null,
   "id": "ec3b066c-1341-4da1-9027-5d37aec509b5",
   "metadata": {},
   "outputs": [],
   "source": []
  },
  {
   "cell_type": "code",
   "execution_count": null,
   "id": "3b6a36f4-a57b-4e7b-8b75-aa894b1f2a09",
   "metadata": {},
   "outputs": [],
   "source": []
  },
  {
   "cell_type": "code",
   "execution_count": null,
   "id": "3cd113b0-42db-4e36-80f9-518773034f89",
   "metadata": {},
   "outputs": [],
   "source": []
  },
  {
   "cell_type": "code",
   "execution_count": null,
   "id": "442d77cc-deb4-4c78-b0db-0de293562e36",
   "metadata": {},
   "outputs": [],
   "source": []
  },
  {
   "cell_type": "code",
   "execution_count": null,
   "id": "0e14d0c6-533f-4219-b11a-c2054f8047d3",
   "metadata": {},
   "outputs": [],
   "source": []
  },
  {
   "cell_type": "code",
   "execution_count": null,
   "id": "120a8562-52dd-4993-a7b7-07c590a24efe",
   "metadata": {},
   "outputs": [],
   "source": []
  },
  {
   "cell_type": "code",
   "execution_count": null,
   "id": "79ee792d-f185-46f6-b53d-9bb5f729fefe",
   "metadata": {},
   "outputs": [],
   "source": []
  },
  {
   "cell_type": "code",
   "execution_count": null,
   "id": "d99b3d00-b864-4778-be3b-52ad1a0a6880",
   "metadata": {},
   "outputs": [],
   "source": []
  },
  {
   "cell_type": "code",
   "execution_count": null,
   "id": "a9d01ac3-5483-4643-9f5e-48d157a8417c",
   "metadata": {},
   "outputs": [],
   "source": []
  },
  {
   "cell_type": "code",
   "execution_count": null,
   "id": "0491e4aa-c433-45a1-8dfa-dfed6b8d82c2",
   "metadata": {},
   "outputs": [],
   "source": []
  },
  {
   "cell_type": "code",
   "execution_count": null,
   "id": "8687c876-7ad6-4309-a317-3a6a0a0a873a",
   "metadata": {},
   "outputs": [],
   "source": []
  },
  {
   "cell_type": "code",
   "execution_count": null,
   "id": "712693e9-26a9-4ad9-bfbf-ca8fe6a4251d",
   "metadata": {},
   "outputs": [],
   "source": []
  }
 ],
 "metadata": {
  "kernelspec": {
   "display_name": "Python 3",
   "language": "python",
   "name": "python3"
  },
  "language_info": {
   "codemirror_mode": {
    "name": "ipython",
    "version": 3
   },
   "file_extension": ".py",
   "mimetype": "text/x-python",
   "name": "python",
   "nbconvert_exporter": "python",
   "pygments_lexer": "ipython3",
   "version": "3.8.8"
  }
 },
 "nbformat": 4,
 "nbformat_minor": 5
}
